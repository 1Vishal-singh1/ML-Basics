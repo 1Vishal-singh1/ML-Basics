{
  "nbformat": 4,
  "nbformat_minor": 0,
  "metadata": {
    "colab": {
      "name": "ML2_20181CSE0794.ipynb",
      "provenance": [],
      "authorship_tag": "ABX9TyP/qjzcdLj979YPLPJVySab",
      "include_colab_link": true
    },
    "kernelspec": {
      "name": "python3",
      "display_name": "Python 3"
    }
  },
  "cells": [
    {
      "cell_type": "markdown",
      "metadata": {
        "id": "view-in-github",
        "colab_type": "text"
      },
      "source": [
        "<a href=\"https://colab.research.google.com/github/1Vishal-singh1/ML-Basics/blob/main/ML2_20181CSE0794.ipynb\" target=\"_parent\"><img src=\"https://colab.research.google.com/assets/colab-badge.svg\" alt=\"Open In Colab\"/></a>"
      ]
    },
    {
      "cell_type": "code",
      "metadata": {
        "id": "pNLW-B_8EFoz"
      },
      "source": [
        "import numpy as np\n",
        "x=np.arange(2,20,2)\n",
        "y=x*2+2*x+1\n",
        "x_new=x.reshape(-1,1)\n",
        "y_new=y.reshape(-1,1)"
      ],
      "execution_count": null,
      "outputs": []
    },
    {
      "cell_type": "code",
      "metadata": {
        "id": "PdpuyZMMEUmB"
      },
      "source": [
        "#import package\n",
        "from sklearn.linear_model import LinearRegression"
      ],
      "execution_count": null,
      "outputs": []
    },
    {
      "cell_type": "code",
      "metadata": {
        "colab": {
          "base_uri": "https://localhost:8080/"
        },
        "id": "tBt3TU2fEabb",
        "outputId": "320c3eff-638c-4887-a65e-403b42f809ad"
      },
      "source": [
        "LRmodel=LinearRegression()\n",
        "LRmodel.fit(x_new, y_new)"
      ],
      "execution_count": null,
      "outputs": [
        {
          "output_type": "execute_result",
          "data": {
            "text/plain": [
              "LinearRegression(copy_X=True, fit_intercept=True, n_jobs=None, normalize=False)"
            ]
          },
          "metadata": {
            "tags": []
          },
          "execution_count": 13
        }
      ]
    },
    {
      "cell_type": "code",
      "metadata": {
        "id": "EUYx5S2rEf7B"
      },
      "source": [
        "z=np.array([11])\n",
        "z=z.reshape(-1,1)"
      ],
      "execution_count": null,
      "outputs": []
    },
    {
      "cell_type": "code",
      "metadata": {
        "colab": {
          "base_uri": "https://localhost:8080/"
        },
        "id": "Yr3CarriEm8A",
        "outputId": "7e3a9fd0-a334-4ee8-975c-259d24c88b53"
      },
      "source": [
        "LRmodel.predict(z)"
      ],
      "execution_count": null,
      "outputs": [
        {
          "output_type": "execute_result",
          "data": {
            "text/plain": [
              "array([[45.]])"
            ]
          },
          "metadata": {
            "tags": []
          },
          "execution_count": 15
        }
      ]
    },
    {
      "cell_type": "code",
      "metadata": {
        "colab": {
          "base_uri": "https://localhost:8080/"
        },
        "id": "mKzZWXCDEr3Q",
        "outputId": "b1b700dd-cf69-4dab-c32d-a7fd791fef4d"
      },
      "source": [
        "from sklearn.tree import DecisionTreeRegressor\n",
        "dmodel=DecisionTreeRegressor()\n",
        "dmodel.fit(x_new, y_new)\n",
        "dmodel.predict(z)"
      ],
      "execution_count": null,
      "outputs": [
        {
          "output_type": "execute_result",
          "data": {
            "text/plain": [
              "array([41.])"
            ]
          },
          "metadata": {
            "tags": []
          },
          "execution_count": 16
        }
      ]
    },
    {
      "cell_type": "code",
      "metadata": {
        "colab": {
          "base_uri": "https://localhost:8080/"
        },
        "id": "6t3LiFDLFJTk",
        "outputId": "701a49f8-7cca-4201-9963-4503d4100080"
      },
      "source": [
        "from sklearn.metrics import accuracy_score\n",
        "y_pred = [0, 2, 1, 3]\n",
        "y_true = [0, 1, 2, 3]\n",
        "accuracy_score(y_true, y_pred)"
      ],
      "execution_count": null,
      "outputs": [
        {
          "output_type": "execute_result",
          "data": {
            "text/plain": [
              "0.5"
            ]
          },
          "metadata": {
            "tags": []
          },
          "execution_count": 18
        }
      ]
    },
    {
      "cell_type": "code",
      "metadata": {
        "id": "q7Y226i4HvNk"
      },
      "source": [
        ""
      ],
      "execution_count": null,
      "outputs": []
    }
  ]
}