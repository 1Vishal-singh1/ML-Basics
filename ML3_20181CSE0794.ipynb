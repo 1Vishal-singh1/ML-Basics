{
  "nbformat": 4,
  "nbformat_minor": 0,
  "metadata": {
    "colab": {
      "name": "ML3_20181CSE0794.ipynb",
      "provenance": [],
      "authorship_tag": "ABX9TyO841svvhduVua25RWar3BT",
      "include_colab_link": true
    },
    "kernelspec": {
      "name": "python3",
      "display_name": "Python 3"
    }
  },
  "cells": [
    {
      "cell_type": "markdown",
      "metadata": {
        "id": "view-in-github",
        "colab_type": "text"
      },
      "source": [
        "<a href=\"https://colab.research.google.com/github/1Vishal-singh1/ML-Basics/blob/main/ML3_20181CSE0794.ipynb\" target=\"_parent\"><img src=\"https://colab.research.google.com/assets/colab-badge.svg\" alt=\"Open In Colab\"/></a>"
      ]
    },
    {
      "cell_type": "code",
      "metadata": {
        "colab": {
          "base_uri": "https://localhost:8080/"
        },
        "id": "ggTDDoGcISez",
        "outputId": "bae8fd81-1496-464f-cdc7-df1aa41e32e3"
      },
      "source": [
        "import numpy as np\n",
        "x=np.random.randint(10,size=(1,30))\n",
        "y=x**2+3*x+1\n",
        "x=x.reshape(-1,1)\n",
        "y=y.reshape(-1,1)\n",
        "x_new=np.split(x,2)\n",
        "y_new=np.split(y,2)\n",
        "print(x_new[0])\n",
        "print(x_new[1])\n",
        "print(y_new[0])\n",
        "print(y_new[1])"
      ],
      "execution_count": null,
      "outputs": [
        {
          "output_type": "stream",
          "text": [
            "[[1]\n",
            " [7]\n",
            " [0]\n",
            " [9]\n",
            " [2]\n",
            " [1]\n",
            " [7]\n",
            " [5]\n",
            " [2]\n",
            " [7]\n",
            " [8]\n",
            " [7]\n",
            " [8]\n",
            " [0]\n",
            " [7]]\n",
            "[[6]\n",
            " [4]\n",
            " [3]\n",
            " [7]\n",
            " [7]\n",
            " [0]\n",
            " [1]\n",
            " [3]\n",
            " [8]\n",
            " [2]\n",
            " [2]\n",
            " [3]\n",
            " [2]\n",
            " [6]\n",
            " [6]]\n",
            "[[  5]\n",
            " [ 71]\n",
            " [  1]\n",
            " [109]\n",
            " [ 11]\n",
            " [  5]\n",
            " [ 71]\n",
            " [ 41]\n",
            " [ 11]\n",
            " [ 71]\n",
            " [ 89]\n",
            " [ 71]\n",
            " [ 89]\n",
            " [  1]\n",
            " [ 71]]\n",
            "[[55]\n",
            " [29]\n",
            " [19]\n",
            " [71]\n",
            " [71]\n",
            " [ 1]\n",
            " [ 5]\n",
            " [19]\n",
            " [89]\n",
            " [11]\n",
            " [11]\n",
            " [19]\n",
            " [11]\n",
            " [55]\n",
            " [55]]\n"
          ],
          "name": "stdout"
        }
      ]
    },
    {
      "cell_type": "code",
      "metadata": {
        "colab": {
          "base_uri": "https://localhost:8080/"
        },
        "id": "oTG7iJNLROcL",
        "outputId": "4430a623-6c43-4863-e4b5-10cb99529a55"
      },
      "source": [
        "from sklearn.linear_model import LinearRegression\n",
        "LRmodel=LinearRegression()\n",
        "LRmodel.fit(x_new[0], y_new[0])\n",
        "x_predict=LRmodel.predict(x_new[1])\n",
        "x_predict=np.rint(x_predict)\n",
        "from sklearn.metrics import accuracy_score\n",
        "accuracy_score(y_new[1],x_predict)"
      ],
      "execution_count": null,
      "outputs": [
        {
          "output_type": "execute_result",
          "data": {
            "text/plain": [
              "0.06666666666666667"
            ]
          },
          "metadata": {
            "tags": []
          },
          "execution_count": 42
        }
      ]
    },
    {
      "cell_type": "code",
      "metadata": {
        "colab": {
          "base_uri": "https://localhost:8080/"
        },
        "id": "_bweUlsjVJxt",
        "outputId": "83c1a0bf-b995-453e-be50-0276fe04078d"
      },
      "source": [
        "from sklearn.tree import DecisionTreeRegressor\n",
        "dmodel=DecisionTreeRegressor()\n",
        "dmodel.fit(x_new[0], y_new[0])\n",
        "dx_predict=dmodel.predict(x_new[1])\n",
        "dx_predict=np.rint(dx_predict)\n",
        "from sklearn.metrics import accuracy_score\n",
        "accuracy_score(y_new[1],dx_predict)"
      ],
      "execution_count": null,
      "outputs": [
        {
          "output_type": "execute_result",
          "data": {
            "text/plain": [
              "0.5333333333333333"
            ]
          },
          "metadata": {
            "tags": []
          },
          "execution_count": 46
        }
      ]
    },
    {
      "cell_type": "code",
      "metadata": {
        "colab": {
          "base_uri": "https://localhost:8080/"
        },
        "id": "Pm9xQPlXM3iv",
        "outputId": "6a7bfc35-a2f8-4eaa-cab4-d1b59d93f4d6"
      },
      "source": [
        "from sklearn import tree\n",
        "x= [[0, 0], [1, 1]]\n",
        "y= [[0, 1],[0,0]]\n",
        "clf = tree.DecisionTreeClassifier()\n",
        "clf = clf.fit(x, y)\n",
        "clf.predict([[0,1.5],[0,0]])"
      ],
      "execution_count": null,
      "outputs": [
        {
          "output_type": "execute_result",
          "data": {
            "text/plain": [
              "array([[0, 0],\n",
              "       [0, 1]])"
            ]
          },
          "metadata": {
            "tags": []
          },
          "execution_count": 30
        }
      ]
    }
  ]
}